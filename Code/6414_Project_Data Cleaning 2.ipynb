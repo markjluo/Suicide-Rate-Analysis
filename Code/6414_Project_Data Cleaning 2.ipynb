{
 "cells": [
  {
   "cell_type": "code",
   "execution_count": 1,
   "metadata": {},
   "outputs": [],
   "source": [
    "import pandas as pd\n",
    "import seaborn as sns\n",
    "import warnings\n",
    "warnings.filterwarnings('ignore')\n",
    "warnings.simplefilter('ignore')\n",
    "import plotly.graph_objects as go\n",
    "import numpy as np\n",
    "pd.set_option('display.max_rows', 500)"
   ]
  },
  {
   "cell_type": "code",
   "execution_count": 2,
   "metadata": {},
   "outputs": [],
   "source": [
    "data = pd.read_csv('merged - Copy.csv',encoding = 'unicode_escape')"
   ]
  },
  {
   "cell_type": "code",
   "execution_count": 3,
   "metadata": {},
   "outputs": [],
   "source": [
    "data = data.dropna(subset=['suicides/100k pop']).reset_index(drop=True)"
   ]
  },
  {
   "cell_type": "code",
   "execution_count": 4,
   "metadata": {},
   "outputs": [
    {
     "name": "stdout",
     "output_type": "stream",
     "text": [
      "<class 'pandas.core.frame.DataFrame'>\n",
      "RangeIndex: 87 entries, 0 to 86\n",
      "Data columns (total 11 columns):\n",
      "country                       87 non-null object\n",
      "region                        87 non-null object\n",
      "GDP per capita usd            87 non-null float64\n",
      "population                    87 non-null float64\n",
      "suicides/100k pop             87 non-null float64\n",
      "gini                          78 non-null float64\n",
      "HDI                           85 non-null object\n",
      "median_age                    87 non-null float64\n",
      "life_expectancy               87 non-null float64\n",
      "household_debt_percent_GDP    70 non-null float64\n",
      "happiness                     73 non-null float64\n",
      "dtypes: float64(8), object(3)\n",
      "memory usage: 7.6+ KB\n"
     ]
    }
   ],
   "source": [
    "data.info()"
   ]
  },
  {
   "cell_type": "code",
   "execution_count": 5,
   "metadata": {
    "scrolled": false
   },
   "outputs": [
    {
     "data": {
      "text/plain": [
       "GDP per capita usd            2.484107e+04\n",
       "population                    2.327296e+07\n",
       "suicides/100k pop             1.027626e+01\n",
       "gini                          3.742333e+01\n",
       "median_age                    3.574598e+01\n",
       "life_expectancy               7.699475e+01\n",
       "household_debt_percent_GDP    5.228513e+01\n",
       "happiness                     6.162260e+00\n",
       "dtype: float64"
      ]
     },
     "execution_count": 5,
     "metadata": {},
     "output_type": "execute_result"
    }
   ],
   "source": [
    "data.mean()"
   ]
  },
  {
   "cell_type": "code",
   "execution_count": 6,
   "metadata": {},
   "outputs": [],
   "source": [
    "data['HDI'] = pd.to_numeric(data['HDI'],errors='coerce')\n",
    "data.rename(columns={'suicides/100k pop': 'suicides_per_100k', 'GDP per capita usd':'gdp_per_cap_usd'}, inplace=True)"
   ]
  },
  {
   "cell_type": "code",
   "execution_count": 7,
   "metadata": {},
   "outputs": [],
   "source": [
    "data = data.fillna(data.mean())"
   ]
  },
  {
   "cell_type": "code",
   "execution_count": 8,
   "metadata": {
    "scrolled": false
   },
   "outputs": [
    {
     "name": "stdout",
     "output_type": "stream",
     "text": [
      "<class 'pandas.core.frame.DataFrame'>\n",
      "RangeIndex: 87 entries, 0 to 86\n",
      "Data columns (total 11 columns):\n",
      "country                       87 non-null object\n",
      "region                        87 non-null object\n",
      "gdp_per_cap_usd               87 non-null float64\n",
      "population                    87 non-null float64\n",
      "suicides_per_100k             87 non-null float64\n",
      "gini                          87 non-null float64\n",
      "HDI                           87 non-null float64\n",
      "median_age                    87 non-null float64\n",
      "life_expectancy               87 non-null float64\n",
      "household_debt_percent_GDP    87 non-null float64\n",
      "happiness                     87 non-null float64\n",
      "dtypes: float64(9), object(2)\n",
      "memory usage: 7.6+ KB\n"
     ]
    }
   ],
   "source": [
    "data.info()"
   ]
  },
  {
   "cell_type": "code",
   "execution_count": 10,
   "metadata": {
    "scrolled": false
   },
   "outputs": [
    {
     "data": {
      "text/plain": [
       "(87, 11)"
      ]
     },
     "execution_count": 10,
     "metadata": {},
     "output_type": "execute_result"
    }
   ],
   "source": [
    "data.shape"
   ]
  },
  {
   "cell_type": "code",
   "execution_count": 28,
   "metadata": {},
   "outputs": [],
   "source": [
    "d ={'OCEANIA                            ' : 'GLOBAL WEST',\n",
    "     'WESTERN EUROPE                     ' : 'GLOBAL WEST',\n",
    "     'NORDIC STATES' : 'GLOBAL WEST',\n",
    "     'WESTERN ASIA' : 'ASIA',\n",
    "     'EASTERN EUROPE                     ': 'EASTERN EUROPE',\n",
    "     'SOUTHEAST ASIA' : 'ASIA', \n",
    "     'NORTHERN AMERICA                   ' : 'GLOBAL WEST',\n",
    "     'LATIN AMER. & CARIB    ': 'LATIN AMER. & CARIB',\n",
    "     'SUB-SAHARAN AFRICA                 ': 'SUB-SAHARAN AFRICA',\n",
    "     'BALTICS                            ' : 'EASTERN EUROPE',\n",
    "     'CENTRAL ASIA' : 'ASIA',\n",
    "      'ASIA                           ' : 'ASIA'\n",
    "    }\n",
    "\n",
    "\n",
    "\n",
    "\n",
    "data.replace({\"region\": d}, inplace=True)"
   ]
  },
  {
   "cell_type": "code",
   "execution_count": 29,
   "metadata": {},
   "outputs": [
    {
     "data": {
      "text/plain": [
       "array(['LATIN AMER. & CARIB', 'ASIA', 'GLOBAL WEST', 'EASTERN EUROPE',\n",
       "       'MIDDLE EAST', 'SUB-SAHARAN AFRICA'], dtype=object)"
      ]
     },
     "execution_count": 29,
     "metadata": {},
     "output_type": "execute_result"
    }
   ],
   "source": [
    "data['region'].unique()"
   ]
  },
  {
   "cell_type": "code",
   "execution_count": 18,
   "metadata": {},
   "outputs": [],
   "source": [
    "# data['suicide_no'] = data[['population', 'suicides_per_100k']].apply(lambda x: x[1]*x[0]/100000, axis=1)"
   ]
  },
  {
   "cell_type": "code",
   "execution_count": 19,
   "metadata": {},
   "outputs": [
    {
     "data": {
      "text/html": [
       "<div>\n",
       "<style scoped>\n",
       "    .dataframe tbody tr th:only-of-type {\n",
       "        vertical-align: middle;\n",
       "    }\n",
       "\n",
       "    .dataframe tbody tr th {\n",
       "        vertical-align: top;\n",
       "    }\n",
       "\n",
       "    .dataframe thead th {\n",
       "        text-align: right;\n",
       "    }\n",
       "</style>\n",
       "<table border=\"1\" class=\"dataframe\">\n",
       "  <thead>\n",
       "    <tr style=\"text-align: right;\">\n",
       "      <th></th>\n",
       "      <th>country</th>\n",
       "      <th>region</th>\n",
       "      <th>gdp_per_cap_usd</th>\n",
       "      <th>population</th>\n",
       "      <th>suicides_per_100k</th>\n",
       "      <th>gini</th>\n",
       "      <th>HDI</th>\n",
       "      <th>median_age</th>\n",
       "      <th>life_expectancy</th>\n",
       "      <th>household_debt_percent_GDP</th>\n",
       "      <th>happiness</th>\n",
       "      <th>suicide_no</th>\n",
       "    </tr>\n",
       "  </thead>\n",
       "  <tbody>\n",
       "    <tr>\n",
       "      <th>0</th>\n",
       "      <td>Antigua and Barbuda</td>\n",
       "      <td>LATIN AMER. &amp; CARIB</td>\n",
       "      <td>14853.0</td>\n",
       "      <td>91889.0</td>\n",
       "      <td>1.088270</td>\n",
       "      <td>37.423333</td>\n",
       "      <td>0.775</td>\n",
       "      <td>31.6</td>\n",
       "      <td>76.483000</td>\n",
       "      <td>52.285129</td>\n",
       "      <td>6.16226</td>\n",
       "      <td>1.000000</td>\n",
       "    </tr>\n",
       "    <tr>\n",
       "      <th>1</th>\n",
       "      <td>Argentina</td>\n",
       "      <td>LATIN AMER. &amp; CARIB</td>\n",
       "      <td>14981.0</td>\n",
       "      <td>39699624.0</td>\n",
       "      <td>7.740627</td>\n",
       "      <td>42.700000</td>\n",
       "      <td>0.822</td>\n",
       "      <td>31.5</td>\n",
       "      <td>76.068000</td>\n",
       "      <td>6.350000</td>\n",
       "      <td>6.57400</td>\n",
       "      <td>3073.000000</td>\n",
       "    </tr>\n",
       "    <tr>\n",
       "      <th>2</th>\n",
       "      <td>Armenia</td>\n",
       "      <td>ASIA</td>\n",
       "      <td>3775.0</td>\n",
       "      <td>2795335.0</td>\n",
       "      <td>2.647268</td>\n",
       "      <td>32.400000</td>\n",
       "      <td>0.748</td>\n",
       "      <td>34.6</td>\n",
       "      <td>74.467000</td>\n",
       "      <td>53.700000</td>\n",
       "      <td>4.35000</td>\n",
       "      <td>74.000000</td>\n",
       "    </tr>\n",
       "    <tr>\n",
       "      <th>3</th>\n",
       "      <td>Australia</td>\n",
       "      <td>GLOBAL WEST</td>\n",
       "      <td>60656.0</td>\n",
       "      <td>22240785.0</td>\n",
       "      <td>13.610131</td>\n",
       "      <td>34.700000</td>\n",
       "      <td>0.936</td>\n",
       "      <td>38.6</td>\n",
       "      <td>82.400000</td>\n",
       "      <td>120.140000</td>\n",
       "      <td>7.28400</td>\n",
       "      <td>3027.000001</td>\n",
       "    </tr>\n",
       "    <tr>\n",
       "      <th>4</th>\n",
       "      <td>Austria</td>\n",
       "      <td>GLOBAL WEST</td>\n",
       "      <td>46484.0</td>\n",
       "      <td>8219386.0</td>\n",
       "      <td>15.220115</td>\n",
       "      <td>30.500000</td>\n",
       "      <td>0.903</td>\n",
       "      <td>43.8</td>\n",
       "      <td>81.190244</td>\n",
       "      <td>50.210000</td>\n",
       "      <td>7.20000</td>\n",
       "      <td>1251.000000</td>\n",
       "    </tr>\n",
       "  </tbody>\n",
       "</table>\n",
       "</div>"
      ],
      "text/plain": [
       "               country               region  gdp_per_cap_usd  population  \\\n",
       "0  Antigua and Barbuda  LATIN AMER. & CARIB          14853.0     91889.0   \n",
       "1            Argentina  LATIN AMER. & CARIB          14981.0  39699624.0   \n",
       "2              Armenia                 ASIA           3775.0   2795335.0   \n",
       "3            Australia          GLOBAL WEST          60656.0  22240785.0   \n",
       "4              Austria          GLOBAL WEST          46484.0   8219386.0   \n",
       "\n",
       "   suicides_per_100k       gini    HDI  median_age  life_expectancy  \\\n",
       "0           1.088270  37.423333  0.775        31.6        76.483000   \n",
       "1           7.740627  42.700000  0.822        31.5        76.068000   \n",
       "2           2.647268  32.400000  0.748        34.6        74.467000   \n",
       "3          13.610131  34.700000  0.936        38.6        82.400000   \n",
       "4          15.220115  30.500000  0.903        43.8        81.190244   \n",
       "\n",
       "   household_debt_percent_GDP  happiness   suicide_no  \n",
       "0                   52.285129    6.16226     1.000000  \n",
       "1                    6.350000    6.57400  3073.000000  \n",
       "2                   53.700000    4.35000    74.000000  \n",
       "3                  120.140000    7.28400  3027.000001  \n",
       "4                   50.210000    7.20000  1251.000000  "
      ]
     },
     "execution_count": 19,
     "metadata": {},
     "output_type": "execute_result"
    }
   ],
   "source": [
    "data.head()"
   ]
  },
  {
   "cell_type": "code",
   "execution_count": 13,
   "metadata": {},
   "outputs": [],
   "source": [
    "data.to_csv('reg_data.csv', index=False)"
   ]
  },
  {
   "cell_type": "code",
   "execution_count": null,
   "metadata": {},
   "outputs": [],
   "source": []
  },
  {
   "cell_type": "code",
   "execution_count": null,
   "metadata": {},
   "outputs": [],
   "source": []
  }
 ],
 "metadata": {
  "kernelspec": {
   "display_name": "Python 3",
   "language": "python",
   "name": "python3"
  },
  "language_info": {
   "codemirror_mode": {
    "name": "ipython",
    "version": 3
   },
   "file_extension": ".py",
   "mimetype": "text/x-python",
   "name": "python",
   "nbconvert_exporter": "python",
   "pygments_lexer": "ipython3",
   "version": "3.7.3"
  }
 },
 "nbformat": 4,
 "nbformat_minor": 2
}
